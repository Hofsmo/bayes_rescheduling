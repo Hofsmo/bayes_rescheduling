{
 "cells": [
  {
   "cell_type": "code",
   "execution_count": 1,
   "id": "a9987e42-21ba-4d7b-9d2c-a1aa077a76ad",
   "metadata": {
    "tags": []
   },
   "outputs": [],
   "source": [
    "import dynpssimpy.dynamic as dps\n",
    "import dynpssimpy.modal_analysis as dps_mdl\n",
    "import dynpssimpy.plotting as dps_plt\n",
    "import numpy as np\n",
    "import matplotlib.pyplot as plt\n",
    "import json\n",
    "from sparculing.helper_functions import *\n",
    "from sparculing.gen_sens import *"
   ]
  },
  {
   "cell_type": "code",
   "execution_count": 2,
   "id": "bafd6668-c5d7-4949-a052-9cb22a1845e8",
   "metadata": {},
   "outputs": [],
   "source": [
    "with open('k2a.json') as f:\n",
    "    data= f.read()"
   ]
  },
  {
   "cell_type": "code",
   "execution_count": 3,
   "id": "304c7611-3800-48ea-a30b-23eac074c2e7",
   "metadata": {
    "tags": []
   },
   "outputs": [],
   "source": [
    "model = json.loads(data)"
   ]
  },
  {
   "cell_type": "code",
   "execution_count": 4,
   "id": "43b79cc7-a4e0-466c-b994-bf9c5114ce4f",
   "metadata": {
    "tags": []
   },
   "outputs": [],
   "source": [
    "pl0=get_load_power_vector(model)"
   ]
  },
  {
   "cell_type": "code",
   "execution_count": 5,
   "id": "9325dada-2073-4849-9d3b-79592e31c9d0",
   "metadata": {
    "tags": []
   },
   "outputs": [],
   "source": [
    "pg0=get_gen_power_vector(model)"
   ]
  },
  {
   "cell_type": "code",
   "execution_count": 6,
   "id": "bbd6b217-1555-43fd-8671-7a3d007a72c6",
   "metadata": {
    "tags": []
   },
   "outputs": [
    {
     "data": {
      "text/plain": [
       "2734"
      ]
     },
     "execution_count": 6,
     "metadata": {},
     "output_type": "execute_result"
    }
   ],
   "source": [
    "np.sum(pl0)"
   ]
  },
  {
   "cell_type": "code",
   "execution_count": 7,
   "id": "53ab1bd8-dcc9-4f49-aec3-0df4ce1ee06d",
   "metadata": {
    "tags": []
   },
   "outputs": [
    {
     "data": {
      "text/plain": [
       "array([ 967, 1767])"
      ]
     },
     "execution_count": 7,
     "metadata": {},
     "output_type": "execute_result"
    }
   ],
   "source": [
    "pl0"
   ]
  },
  {
   "cell_type": "code",
   "execution_count": 8,
   "id": "dfc9321f-47a9-4ced-a51a-c44d64bba2eb",
   "metadata": {
    "tags": []
   },
   "outputs": [
    {
     "data": {
      "text/plain": [
       "2819"
      ]
     },
     "execution_count": 8,
     "metadata": {},
     "output_type": "execute_result"
    }
   ],
   "source": [
    "np.sum(pg0)"
   ]
  },
  {
   "cell_type": "code",
   "execution_count": 9,
   "id": "481817d0-3008-4978-82e8-8e8c2c9c95c4",
   "metadata": {
    "tags": []
   },
   "outputs": [
    {
     "data": {
      "text/plain": [
       "array([700, 700, 719, 700])"
      ]
     },
     "execution_count": 9,
     "metadata": {},
     "output_type": "execute_result"
    }
   ],
   "source": [
    "pg0"
   ]
  },
  {
   "cell_type": "code",
   "execution_count": 10,
   "id": "cabd7ee6-f2b6-4317-95e0-6d995a463fc4",
   "metadata": {
    "tags": []
   },
   "outputs": [],
   "source": [
    "change_all_load_powers(model, pl0+[-100,100])"
   ]
  },
  {
   "cell_type": "code",
   "execution_count": 11,
   "id": "fea2d1a3-b79a-4e8f-9a73-5bd3d0dce7d0",
   "metadata": {
    "tags": []
   },
   "outputs": [],
   "source": [
    "change_all_gen_powers(model, pg0+[100,0,0,-100])"
   ]
  },
  {
   "cell_type": "code",
   "execution_count": 12,
   "id": "a845608d-df6b-48a0-b3ac-d978f5a606b8",
   "metadata": {
    "tags": []
   },
   "outputs": [
    {
     "name": "stdout",
     "output_type": "stream",
     "text": [
      "Standard model: lines, Line\n",
      "Standard model: loads, Load\n",
      "Standard model: shunts, Shunt\n",
      "Standard model: gov, TGOV1\n",
      "Standard model: avr, SEXS\n",
      "Standard model: pss, STAB1\n",
      "Standard model: trafos, Trafo\n",
      "Standard model: gen, GEN\n"
     ]
    }
   ],
   "source": [
    "sys=dps.PowerSystemModel(model=model)"
   ]
  },
  {
   "cell_type": "code",
   "execution_count": 13,
   "id": "f580b7c7-5751-486a-9033-9563efc71d14",
   "metadata": {
    "tags": []
   },
   "outputs": [],
   "source": [
    "sys.init_dyn_sim()\n",
    "ps_lin = dps_mdl.PowerSystemModelLinearization(sys)\n",
    "ps_lin.linearize()\n",
    "ps_lin.eigenvalue_decomposition()"
   ]
  },
  {
   "cell_type": "code",
   "execution_count": 14,
   "id": "4acc76d3-58f5-4297-921d-ef447ead1508",
   "metadata": {
    "tags": []
   },
   "outputs": [
    {
     "data": {
      "image/png": "[encoded data removed]",
      "text/plain": [
       "<Figure size 640x480 with 1 Axes>"
      ]
     },
     "metadata": {},
     "output_type": "display_data"
    }
   ],
   "source": [
    "dps_plt.plot_eigs(ps_lin.eigs)"
   ]
  },
  {
   "cell_type": "code",
   "execution_count": 15,
   "id": "fb83e74e-e61e-47d0-931a-8a764c1cf959",
   "metadata": {
    "tags": []
   },
   "outputs": [],
   "source": [
    "remove_inaccurate_zero(ps_lin)"
   ]
  },
  {
   "cell_type": "code",
   "execution_count": 16,
   "id": "ebf70a2e-f595-45a1-ac14-cad5123c3966",
   "metadata": {
    "tags": []
   },
   "outputs": [
    {
     "data": {
      "text/plain": [
       "30"
      ]
     },
     "execution_count": 16,
     "metadata": {},
     "output_type": "execute_result"
    }
   ],
   "source": [
    "np.argmin(ps_lin.damping)"
   ]
  },
  {
   "cell_type": "code",
   "execution_count": 17,
   "id": "69815abe-1dde-4ce7-9a3f-0ebbd42caabb",
   "metadata": {
    "tags": []
   },
   "outputs": [
    {
     "data": {
      "text/plain": [
       "[<matplotlib.lines.Line2D at 0x7f6426008460>]"
      ]
     },
     "execution_count": 17,
     "metadata": {},
     "output_type": "execute_result"
    },
    {
     "data": {
      "image/png": "[encoded data removed]",
      "text/plain": [
       "<Figure size 640x480 with 1 Axes>"
      ]
     },
     "metadata": {},
     "output_type": "display_data"
    }
   ],
   "source": [
    "plt.plot(ps_lin.damping)"
   ]
  },
  {
   "cell_type": "code",
   "execution_count": 18,
   "id": "03043f1f-ea5d-4068-9558-be6daaea2ca6",
   "metadata": {
    "tags": []
   },
   "outputs": [
    {
     "data": {
      "text/plain": [
       "0.08506433843531326"
      ]
     },
     "execution_count": 18,
     "metadata": {},
     "output_type": "execute_result"
    }
   ],
   "source": [
    "np.min(ps_lin.damping)"
   ]
  },
  {
   "cell_type": "code",
   "execution_count": 19,
   "id": "d0b13710-2891-4406-81d6-5097d0cd672a",
   "metadata": {
    "collapsed": true,
    "jupyter": {
     "outputs_hidden": true
    },
    "tags": []
   },
   "outputs": [
    {
     "name": "stdout",
     "output_type": "stream",
     "text": [
      "Standard model: lines, Line\n",
      "Standard model: loads, Load\n",
      "Standard model: shunts, Shunt\n",
      "Standard model: gov, TGOV1\n",
      "Standard model: avr, SEXS\n",
      "Standard model: pss, STAB1\n",
      "Standard model: trafos, Trafo\n",
      "Standard model: gen, GEN\n",
      "Standard model: lines, Line\n",
      "Standard model: loads, Load\n",
      "Standard model: shunts, Shunt\n",
      "Standard model: gov, TGOV1\n",
      "Standard model: avr, SEXS\n",
      "Standard model: pss, STAB1\n",
      "Standard model: trafos, Trafo\n",
      "Standard model: gen, GEN\n",
      "Standard model: lines, Line\n",
      "Standard model: loads, Load\n",
      "Standard model: shunts, Shunt\n",
      "Standard model: gov, TGOV1\n",
      "Standard model: avr, SEXS\n",
      "Standard model: pss, STAB1\n",
      "Standard model: trafos, Trafo\n",
      "Standard model: gen, GEN\n",
      "Standard model: lines, Line\n",
      "Standard model: loads, Load\n",
      "Standard model: shunts, Shunt\n",
      "Standard model: gov, TGOV1\n",
      "Standard model: avr, SEXS\n",
      "Standard model: pss, STAB1\n",
      "Standard model: trafos, Trafo\n",
      "Standard model: gen, GEN\n",
      "Standard model: lines, Line\n",
      "Standard model: loads, Load\n",
      "Standard model: shunts, Shunt\n",
      "Standard model: gov, TGOV1\n",
      "Standard model: avr, SEXS\n",
      "Standard model: pss, STAB1\n",
      "Standard model: trafos, Trafo\n",
      "Standard model: gen, GEN\n",
      "Standard model: lines, Line\n",
      "Standard model: loads, Load\n",
      "Standard model: shunts, Shunt\n",
      "Standard model: gov, TGOV1\n",
      "Standard model: avr, SEXS\n",
      "Standard model: pss, STAB1\n",
      "Standard model: trafos, Trafo\n",
      "Standard model: gen, GEN\n",
      "Standard model: lines, Line\n",
      "Standard model: loads, Load\n",
      "Standard model: shunts, Shunt\n",
      "Standard model: gov, TGOV1\n",
      "Standard model: avr, SEXS\n",
      "Standard model: pss, STAB1\n",
      "Standard model: trafos, Trafo\n",
      "Standard model: gen, GEN\n",
      "Standard model: lines, Line\n",
      "Standard model: loads, Load\n",
      "Standard model: shunts, Shunt\n",
      "Standard model: gov, TGOV1\n",
      "Standard model: avr, SEXS\n",
      "Standard model: pss, STAB1\n",
      "Standard model: trafos, Trafo\n",
      "Standard model: gen, GEN\n",
      "Standard model: lines, Line\n",
      "Standard model: loads, Load\n",
      "Standard model: shunts, Shunt\n",
      "Standard model: gov, TGOV1\n",
      "Standard model: avr, SEXS\n",
      "Standard model: pss, STAB1\n",
      "Standard model: trafos, Trafo\n",
      "Standard model: gen, GEN\n"
     ]
    }
   ],
   "source": [
    "senser = GenSensDispatchUnconstrained(model)"
   ]
  },
  {
   "cell_type": "code",
   "execution_count": 20,
   "id": "c09c3f59-8ba8-49bc-b1b2-86347615ab33",
   "metadata": {
    "tags": []
   },
   "outputs": [
    {
     "data": {
      "text/plain": [
       "(52, 4)"
      ]
     },
     "execution_count": 20,
     "metadata": {},
     "output_type": "execute_result"
    }
   ],
   "source": [
    "np.shape(senser.gen_sens)"
   ]
  },
  {
   "cell_type": "code",
   "execution_count": 21,
   "id": "5fad80f0-1562-4660-8d92-4cb8ec8c35e0",
   "metadata": {
    "collapsed": true,
    "jupyter": {
     "outputs_hidden": true
    },
    "tags": []
   },
   "outputs": [
    {
     "name": "stdout",
     "output_type": "stream",
     "text": [
      "Standard model: lines, Line\n",
      "Standard model: loads, Load\n",
      "Standard model: shunts, Shunt\n",
      "Standard model: gov, TGOV1\n",
      "Standard model: avr, SEXS\n",
      "Standard model: pss, STAB1\n",
      "Standard model: trafos, Trafo\n",
      "Standard model: gen, GEN\n",
      "Standard model: lines, Line\n",
      "Standard model: loads, Load\n",
      "Standard model: shunts, Shunt\n",
      "Standard model: gov, TGOV1\n",
      "Standard model: avr, SEXS\n",
      "Standard model: pss, STAB1\n",
      "Standard model: trafos, Trafo\n",
      "Standard model: gen, GEN\n",
      "Standard model: lines, Line\n",
      "Standard model: loads, Load\n",
      "Standard model: shunts, Shunt\n",
      "Standard model: gov, TGOV1\n",
      "Standard model: avr, SEXS\n",
      "Standard model: pss, STAB1\n",
      "Standard model: trafos, Trafo\n",
      "Standard model: gen, GEN\n",
      "Standard model: lines, Line\n",
      "Standard model: loads, Load\n",
      "Standard model: shunts, Shunt\n",
      "Standard model: gov, TGOV1\n",
      "Standard model: avr, SEXS\n",
      "Standard model: pss, STAB1\n",
      "Standard model: trafos, Trafo\n",
      "Standard model: gen, GEN\n",
      "Standard model: lines, Line\n",
      "Standard model: loads, Load\n",
      "Standard model: shunts, Shunt\n",
      "Standard model: gov, TGOV1\n",
      "Standard model: avr, SEXS\n",
      "Standard model: pss, STAB1\n",
      "Standard model: trafos, Trafo\n",
      "Standard model: gen, GEN\n",
      "Standard model: lines, Line\n",
      "Standard model: loads, Load\n",
      "Standard model: shunts, Shunt\n",
      "Standard model: gov, TGOV1\n",
      "Standard model: avr, SEXS\n",
      "Standard model: pss, STAB1\n",
      "Standard model: trafos, Trafo\n",
      "Standard model: gen, GEN\n",
      "Standard model: lines, Line\n",
      "Standard model: loads, Load\n",
      "Standard model: shunts, Shunt\n",
      "Standard model: gov, TGOV1\n",
      "Standard model: avr, SEXS\n",
      "Standard model: pss, STAB1\n",
      "Standard model: trafos, Trafo\n",
      "Standard model: gen, GEN\n",
      "Standard model: lines, Line\n",
      "Standard model: loads, Load\n",
      "Standard model: shunts, Shunt\n",
      "Standard model: gov, TGOV1\n",
      "Standard model: avr, SEXS\n",
      "Standard model: pss, STAB1\n",
      "Standard model: trafos, Trafo\n",
      "Standard model: gen, GEN\n"
     ]
    }
   ],
   "source": [
    "genser=senser.get_gen_sens(dP=1e-6)"
   ]
  },
  {
   "cell_type": "code",
   "execution_count": 22,
   "id": "64edade6-2265-457a-bac4-2df9653c8f71",
   "metadata": {
    "collapsed": true,
    "jupyter": {
     "outputs_hidden": true
    },
    "tags": []
   },
   "outputs": [
    {
     "name": "stdout",
     "output_type": "stream",
     "text": [
      "Standard model: lines, Line\n",
      "Standard model: loads, Load\n",
      "Standard model: shunts, Shunt\n",
      "Standard model: gov, TGOV1\n",
      "Standard model: avr, SEXS\n",
      "Standard model: pss, STAB1\n",
      "Standard model: trafos, Trafo\n",
      "Standard model: gen, GEN\n",
      "Standard model: lines, Line\n",
      "Standard model: loads, Load\n",
      "Standard model: shunts, Shunt\n",
      "Standard model: gov, TGOV1\n",
      "Standard model: avr, SEXS\n",
      "Standard model: pss, STAB1\n",
      "Standard model: trafos, Trafo\n",
      "Standard model: gen, GEN\n",
      "Standard model: lines, Line\n",
      "Standard model: loads, Load\n",
      "Standard model: shunts, Shunt\n",
      "Standard model: gov, TGOV1\n",
      "Standard model: avr, SEXS\n",
      "Standard model: pss, STAB1\n",
      "Standard model: trafos, Trafo\n",
      "Standard model: gen, GEN\n",
      "Standard model: lines, Line\n",
      "Standard model: loads, Load\n",
      "Standard model: shunts, Shunt\n",
      "Standard model: gov, TGOV1\n",
      "Standard model: avr, SEXS\n",
      "Standard model: pss, STAB1\n",
      "Standard model: trafos, Trafo\n",
      "Standard model: gen, GEN\n",
      "Standard model: lines, Line\n",
      "Standard model: loads, Load\n",
      "Standard model: shunts, Shunt\n",
      "Standard model: gov, TGOV1\n",
      "Standard model: avr, SEXS\n",
      "Standard model: pss, STAB1\n",
      "Standard model: trafos, Trafo\n",
      "Standard model: gen, GEN\n",
      "Standard model: lines, Line\n",
      "Standard model: loads, Load\n",
      "Standard model: shunts, Shunt\n",
      "Standard model: gov, TGOV1\n",
      "Standard model: avr, SEXS\n",
      "Standard model: pss, STAB1\n",
      "Standard model: trafos, Trafo\n",
      "Standard model: gen, GEN\n",
      "Standard model: lines, Line\n",
      "Standard model: loads, Load\n",
      "Standard model: shunts, Shunt\n",
      "Standard model: gov, TGOV1\n",
      "Standard model: avr, SEXS\n",
      "Standard model: pss, STAB1\n",
      "Standard model: trafos, Trafo\n",
      "Standard model: gen, GEN\n",
      "Standard model: lines, Line\n",
      "Standard model: loads, Load\n",
      "Standard model: shunts, Shunt\n",
      "Standard model: gov, TGOV1\n",
      "Standard model: avr, SEXS\n",
      "Standard model: pss, STAB1\n",
      "Standard model: trafos, Trafo\n",
      "Standard model: gen, GEN\n",
      "Standard model: lines, Line\n",
      "Standard model: loads, Load\n",
      "Standard model: shunts, Shunt\n",
      "Standard model: gov, TGOV1\n",
      "Standard model: avr, SEXS\n",
      "Standard model: pss, STAB1\n",
      "Standard model: trafos, Trafo\n",
      "Standard model: gen, GEN\n",
      "Standard model: lines, Line\n",
      "Standard model: loads, Load\n",
      "Standard model: shunts, Shunt\n",
      "Standard model: gov, TGOV1\n",
      "Standard model: avr, SEXS\n",
      "Standard model: pss, STAB1\n",
      "Standard model: trafos, Trafo\n",
      "Standard model: gen, GEN\n",
      "Standard model: lines, Line\n",
      "Standard model: loads, Load\n",
      "Standard model: shunts, Shunt\n",
      "Standard model: gov, TGOV1\n",
      "Standard model: avr, SEXS\n",
      "Standard model: pss, STAB1\n",
      "Standard model: trafos, Trafo\n",
      "Standard model: gen, GEN\n",
      "Standard model: lines, Line\n",
      "Standard model: loads, Load\n",
      "Standard model: shunts, Shunt\n",
      "Standard model: gov, TGOV1\n",
      "Standard model: avr, SEXS\n",
      "Standard model: pss, STAB1\n",
      "Standard model: trafos, Trafo\n",
      "Standard model: gen, GEN\n",
      "Standard model: lines, Line\n",
      "Standard model: loads, Load\n",
      "Standard model: shunts, Shunt\n",
      "Standard model: gov, TGOV1\n",
      "Standard model: avr, SEXS\n",
      "Standard model: pss, STAB1\n",
      "Standard model: trafos, Trafo\n",
      "Standard model: gen, GEN\n",
      "Standard model: lines, Line\n",
      "Standard model: loads, Load\n",
      "Standard model: shunts, Shunt\n",
      "Standard model: gov, TGOV1\n",
      "Standard model: avr, SEXS\n",
      "Standard model: pss, STAB1\n",
      "Standard model: trafos, Trafo\n",
      "Standard model: gen, GEN\n",
      "Standard model: lines, Line\n",
      "Standard model: loads, Load\n",
      "Standard model: shunts, Shunt\n",
      "Standard model: gov, TGOV1\n",
      "Standard model: avr, SEXS\n",
      "Standard model: pss, STAB1\n",
      "Standard model: trafos, Trafo\n",
      "Standard model: gen, GEN\n",
      "Standard model: lines, Line\n",
      "Standard model: loads, Load\n",
      "Standard model: shunts, Shunt\n",
      "Standard model: gov, TGOV1\n",
      "Standard model: avr, SEXS\n",
      "Standard model: pss, STAB1\n",
      "Standard model: trafos, Trafo\n",
      "Standard model: gen, GEN\n",
      "Standard model: lines, Line\n",
      "Standard model: loads, Load\n",
      "Standard model: shunts, Shunt\n",
      "Standard model: gov, TGOV1\n",
      "Standard model: avr, SEXS\n",
      "Standard model: pss, STAB1\n",
      "Standard model: trafos, Trafo\n",
      "Standard model: gen, GEN\n",
      "Standard model: lines, Line\n",
      "Standard model: loads, Load\n",
      "Standard model: shunts, Shunt\n",
      "Standard model: gov, TGOV1\n",
      "Standard model: avr, SEXS\n",
      "Standard model: pss, STAB1\n",
      "Standard model: trafos, Trafo\n",
      "Standard model: gen, GEN\n"
     ]
    },
    {
     "ename": "AssertionError",
     "evalue": "",
     "output_type": "error",
     "traceback": [
      "\u001b[0;31m---------------------------------------------------------------------------\u001b[0m",
      "\u001b[0;31mAssertionError\u001b[0m                            Traceback (most recent call last)",
      "Cell \u001b[0;32mIn[22], line 3\u001b[0m\n\u001b[1;32m      1\u001b[0m genser2\u001b[38;5;241m=\u001b[39msenser\u001b[38;5;241m.\u001b[39mget_gen_sens(dP\u001b[38;5;241m=\u001b[39m\u001b[38;5;241m1e-5\u001b[39m)\n\u001b[1;32m      2\u001b[0m genser3\u001b[38;5;241m=\u001b[39msenser\u001b[38;5;241m.\u001b[39mget_gen_sens(dP\u001b[38;5;241m=\u001b[39m\u001b[38;5;241m1e-4\u001b[39m)\n\u001b[0;32m----> 3\u001b[0m genser4\u001b[38;5;241m=\u001b[39m\u001b[43msenser\u001b[49m\u001b[38;5;241;43m.\u001b[39;49m\u001b[43mget_gen_sens\u001b[49m\u001b[43m(\u001b[49m\u001b[43mdP\u001b[49m\u001b[38;5;241;43m=\u001b[39;49m\u001b[38;5;241;43m1e-3\u001b[39;49m\u001b[43m)\u001b[49m\n\u001b[1;32m      4\u001b[0m genser5\u001b[38;5;241m=\u001b[39msenser\u001b[38;5;241m.\u001b[39mget_gen_sens(dP\u001b[38;5;241m=\u001b[39m\u001b[38;5;241m1e-2\u001b[39m)\n",
      "File \u001b[0;32m~/git_repos/bayes_rescheduling/src/sparculing/gen_sens.py:122\u001b[0m, in \u001b[0;36mGenSensDispatchUnconstrained.get_gen_sens\u001b[0;34m(self, dP)\u001b[0m\n\u001b[1;32m    119\u001b[0m change_all_gen_powers(\u001b[38;5;28mself\u001b[39m\u001b[38;5;241m.\u001b[39mmodel, powers)\n\u001b[1;32m    121\u001b[0m ps_lin \u001b[38;5;241m=\u001b[39m get_lin_sys(dps\u001b[38;5;241m.\u001b[39mPowerSystemModel(model\u001b[38;5;241m=\u001b[39m\u001b[38;5;28mself\u001b[39m\u001b[38;5;241m.\u001b[39mmodel))\n\u001b[0;32m--> 122\u001b[0m \u001b[43mremove_inaccurate_zero\u001b[49m\u001b[43m(\u001b[49m\u001b[43mps_lin\u001b[49m\u001b[43m)\u001b[49m\n\u001b[1;32m    124\u001b[0m sens[:, gen_i] \u001b[38;5;241m-\u001b[39m\u001b[38;5;241m=\u001b[39m ps_lin\u001b[38;5;241m.\u001b[39meigs\n\u001b[1;32m    125\u001b[0m sens[:, gen_i] \u001b[38;5;241m=\u001b[39m sens[:, gen_i] \u001b[38;5;241m/\u001b[39m (\u001b[38;5;28mself\u001b[39m\u001b[38;5;241m.\u001b[39mratings[gen_i] \u001b[38;5;241m*\u001b[39m \u001b[38;5;241m2\u001b[39m \u001b[38;5;241m*\u001b[39m dP)\n",
      "File \u001b[0;32m~/git_repos/bayes_rescheduling/src/sparculing/helper_functions.py:60\u001b[0m, in \u001b[0;36mremove_inaccurate_zero\u001b[0;34m(ps_lin)\u001b[0m\n\u001b[1;32m     58\u001b[0m \u001b[38;5;28;01mdef\u001b[39;00m \u001b[38;5;21mremove_inaccurate_zero\u001b[39m(ps_lin):\n\u001b[1;32m     59\u001b[0m     zero_eig_idx \u001b[38;5;241m=\u001b[39m \u001b[38;5;28mabs\u001b[39m(ps_lin\u001b[38;5;241m.\u001b[39meigs) \u001b[38;5;241m<\u001b[39m \u001b[38;5;241m1e-4\u001b[39m\n\u001b[0;32m---> 60\u001b[0m     \u001b[38;5;28;01massert\u001b[39;00m \u001b[38;5;28msum\u001b[39m(zero_eig_idx) \u001b[38;5;241m==\u001b[39m \u001b[38;5;241m1\u001b[39m\n\u001b[1;32m     61\u001b[0m     ps_lin\u001b[38;5;241m.\u001b[39meigs[zero_eig_idx] \u001b[38;5;241m=\u001b[39m \u001b[38;5;241m0\u001b[39m\n\u001b[1;32m     62\u001b[0m     ps_lin\u001b[38;5;241m.\u001b[39mdamping[zero_eig_idx] \u001b[38;5;241m=\u001b[39m np\u001b[38;5;241m.\u001b[39minf\n",
      "\u001b[0;31mAssertionError\u001b[0m: "
     ]
    }
   ],
   "source": [
    "genser2=senser.get_gen_sens(dP=1e-5)\n",
    "genser3=senser.get_gen_sens(dP=1e-4)\n",
    "genser4=senser.get_gen_sens(dP=1e-3)\n",
    "genser5=senser.get_gen_sens(dP=1e-2)"
   ]
  },
  {
   "cell_type": "code",
   "execution_count": 23,
   "id": "c6285f13-9df0-4bf0-9ef3-43e23393b67c",
   "metadata": {
    "tags": []
   },
   "outputs": [
    {
     "data": {
      "text/plain": [
       "(24.706589232314776+0j)"
      ]
     },
     "execution_count": 23,
     "metadata": {},
     "output_type": "execute_result"
    }
   ],
   "source": [
    "np.sum(genser2-genser)"
   ]
  },
  {
   "cell_type": "code",
   "execution_count": 24,
   "id": "c5f04eca-286a-4b5b-8618-510450eaab4d",
   "metadata": {
    "tags": []
   },
   "outputs": [
    {
     "data": {
      "text/plain": [
       "(2.4706589232314777+0j)"
      ]
     },
     "execution_count": 24,
     "metadata": {},
     "output_type": "execute_result"
    }
   ],
   "source": [
    "np.sum(genser3-genser2)"
   ]
  },
  {
   "cell_type": "code",
   "execution_count": 25,
   "id": "1b89b9df-6173-47f1-bcca-4afe17adfadd",
   "metadata": {
    "tags": []
   },
   "outputs": [
    {
     "ename": "NameError",
     "evalue": "name 'genser5' is not defined",
     "output_type": "error",
     "traceback": [
      "\u001b[0;31m---------------------------------------------------------------------------\u001b[0m",
      "\u001b[0;31mNameError\u001b[0m                                 Traceback (most recent call last)",
      "Cell \u001b[0;32mIn[25], line 1\u001b[0m\n\u001b[0;32m----> 1\u001b[0m np\u001b[38;5;241m.\u001b[39msum(\u001b[43mgenser5\u001b[49m\u001b[38;5;241m-\u001b[39mgenser2)\n",
      "\u001b[0;31mNameError\u001b[0m: name 'genser5' is not defined"
     ]
    }
   ],
   "source": [
    "np.sum(genser5-genser2)"
   ]
  },
  {
   "cell_type": "code",
   "execution_count": null,
   "id": "89ffc79d-9b3f-483c-a90a-03ec6e8d7e1c",
   "metadata": {
    "tags": []
   },
   "outputs": [],
   "source": [
    "from copy import deepcopy"
   ]
  },
  {
   "cell_type": "code",
   "execution_count": null,
   "id": "49934830-be7a-46a6-926e-283f6c9aca86",
   "metadata": {},
   "outputs": [],
   "source": [
    "copy(senser.model)"
   ]
  },
  {
   "cell_type": "code",
   "execution_count": null,
   "id": "1caafb83-df0c-43ee-ba61-50fc6d45127d",
   "metadata": {
    "tags": []
   },
   "outputs": [],
   "source": [
    "jac = senser._make_jacobian(senser.zeta+0.01)"
   ]
  },
  {
   "cell_type": "code",
   "execution_count": null,
   "id": "b9ffe7e6-89f0-46e3-ab4e-40214f4a38b3",
   "metadata": {
    "tags": []
   },
   "outputs": [],
   "source": [
    "jac"
   ]
  },
  {
   "cell_type": "code",
   "execution_count": null,
   "id": "4b62a257-e10c-48ea-acf5-d41ca2d05e17",
   "metadata": {
    "tags": []
   },
   "outputs": [],
   "source": [
    "np.linalg.solve(-jac, f)"
   ]
  },
  {
   "cell_type": "code",
   "execution_count": null,
   "id": "cbf61f15-5e07-42f6-a014-a92dc65add6d",
   "metadata": {
    "tags": []
   },
   "outputs": [],
   "source": [
    "test=senser.get_gen_sens(dP=0.05)"
   ]
  },
  {
   "cell_type": "code",
   "execution_count": null,
   "id": "ccff04fd-49b6-4d3f-bf01-d0ddcbcf8692",
   "metadata": {
    "tags": []
   },
   "outputs": [],
   "source": [
    "np.linalg.matrix_rank(jac)"
   ]
  },
  {
   "cell_type": "code",
   "execution_count": null,
   "id": "8b248202-b6a6-400e-b42d-ce2cc45c1050",
   "metadata": {
    "tags": []
   },
   "outputs": [],
   "source": [
    "jac.shape"
   ]
  },
  {
   "cell_type": "code",
   "execution_count": null,
   "id": "5ec1eee1-684c-4e21-8582-26f4a0509d49",
   "metadata": {
    "tags": []
   },
   "outputs": [],
   "source": [
    "jac[0,:]"
   ]
  },
  {
   "cell_type": "code",
   "execution_count": null,
   "id": "4dbcdbfd-1b3e-4b15-adea-b00b8caf6995",
   "metadata": {
    "tags": []
   },
   "outputs": [],
   "source": [
    "jac[1,:]"
   ]
  },
  {
   "cell_type": "code",
   "execution_count": null,
   "id": "0c744de1-1d7c-4433-b2f9-15af1426ddb4",
   "metadata": {
    "tags": []
   },
   "outputs": [],
   "source": [
    "senser.gen_sens[senser.min_mode, :]"
   ]
  },
  {
   "cell_type": "code",
   "execution_count": null,
   "id": "534d39cb-784f-440f-ace4-54c3dfd38343",
   "metadata": {
    "tags": []
   },
   "outputs": [],
   "source": [
    "np.linalg.det(jac)"
   ]
  },
  {
   "cell_type": "code",
   "execution_count": null,
   "id": "eb7b77c2-f139-41a5-ace5-43d5742f37cc",
   "metadata": {
    "tags": []
   },
   "outputs": [],
   "source": [
    "senser.ps_lin_0.eigs[senser.min_mode]"
   ]
  },
  {
   "cell_type": "code",
   "execution_count": null,
   "id": "507a740a-5338-422f-906c-bd5978c70e0b",
   "metadata": {
    "tags": []
   },
   "outputs": [],
   "source": [
    "senser.ps_lin_0.damping[senser.min_mode]"
   ]
  },
  {
   "cell_type": "code",
   "execution_count": null,
   "id": "61c67f5a-63c6-4195-821f-51b3be0bfe16",
   "metadata": {
    "tags": []
   },
   "outputs": [],
   "source": [
    "np.real(test[30,:])"
   ]
  },
  {
   "cell_type": "code",
   "execution_count": null,
   "id": "dc25ba6c-ba2c-4cdf-9e7c-5a8addb86802",
   "metadata": {
    "tags": []
   },
   "outputs": [],
   "source": [
    "np.imag(test[30,:])"
   ]
  },
  {
   "cell_type": "code",
   "execution_count": null,
   "id": "903c9c8b-785b-490f-8452-95cd69f84154",
   "metadata": {
    "tags": []
   },
   "outputs": [],
   "source": [
    "(0.1/np.sqrt(1-0.01)*np.imag(test[30,:]))[1]-(0.1/np.sqrt(1-0.01)*np.imag(test[30,:]))[0]"
   ]
  },
  {
   "cell_type": "code",
   "execution_count": null,
   "id": "8950de5c-e75e-4912-bd87-7946b1ef34f8",
   "metadata": {},
   "outputs": [],
   "source": []
  }
 ],
 "metadata": {
  "kernelspec": {
   "display_name": "Python 3 (ipykernel)",
   "language": "python",
   "name": "python3"
  },
  "language_info": {
   "codemirror_mode": {
    "name": "ipython",
    "version": 3
   },
   "file_extension": ".py",
   "mimetype": "text/x-python",
   "name": "python",
   "nbconvert_exporter": "python",
   "pygments_lexer": "ipython3",
   "version": "3.10.6"
  }
 },
 "nbformat": 4,
 "nbformat_minor": 5
}
